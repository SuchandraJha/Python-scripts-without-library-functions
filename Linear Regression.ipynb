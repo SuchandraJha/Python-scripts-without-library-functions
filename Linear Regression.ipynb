{
 "cells": [
  {
   "cell_type": "code",
   "execution_count": 1,
   "metadata": {},
   "outputs": [],
   "source": [
    "import matplotlib.pyplot as plt\n",
    "import math\n",
    "import numpy as np\n",
    "import array\n",
    "from sklearn.linear_model import LinearRegression"
   ]
  },
  {
   "cell_type": "code",
   "execution_count": 2,
   "metadata": {},
   "outputs": [],
   "source": [
    "# Defining data points\n",
    "x=[17,13,12,15,16,14,16,16,18,19]\n",
    "y=[94,73,59,80,93,85,66,79,77,91]"
   ]
  },
  {
   "cell_type": "code",
   "execution_count": 3,
   "metadata": {},
   "outputs": [],
   "source": [
    "# Total number of points\n",
    "total=len(x)"
   ]
  },
  {
   "cell_type": "code",
   "execution_count": 4,
   "metadata": {},
   "outputs": [],
   "source": [
    "# Finding the mean of X-values and Y-values\n",
    "xMean=sum(x)/total\n",
    "yMean=sum(y)/total"
   ]
  },
  {
   "cell_type": "code",
   "execution_count": 5,
   "metadata": {},
   "outputs": [],
   "source": [
    "# Finding numerator of Pearson correlation coefficient\n",
    "rNumerator=0\n",
    "\n",
    "for i in range (total):\n",
    "    rNumerator=rNumerator+((x[i]-xMean)*(y[i]-yMean))"
   ]
  },
  {
   "cell_type": "code",
   "execution_count": 6,
   "metadata": {},
   "outputs": [],
   "source": [
    "# Finding denominator of Pearson correlation coefficient\n",
    "rDenominatorX=0\n",
    "rDenominatorY=0\n",
    "\n",
    "for i in range (total):\n",
    "   rDenominatorX=rDenominatorX+((x[i]-xMean)*(x[i]-xMean))\n",
    "   rDenominatorY=rDenominatorY+((y[i]-yMean)*(y[i]-yMean))\n",
    "    \n",
    "rDenominator=math.sqrt(rDenominatorX*rDenominatorY)"
   ]
  },
  {
   "cell_type": "code",
   "execution_count": 7,
   "metadata": {},
   "outputs": [],
   "source": [
    "# Finding Pearson correlation coefficient\n",
    "r=rNumerator/rDenominator\n",
    "\n",
    "sdX=math.sqrt(rDenominatorX/(total-1))\n",
    "sdY=math.sqrt(rDenominatorY/(total-1))"
   ]
  },
  {
   "cell_type": "code",
   "execution_count": 8,
   "metadata": {},
   "outputs": [],
   "source": [
    "# Slope of the regression line\n",
    "b=r*(sdY/sdX)"
   ]
  },
  {
   "cell_type": "code",
   "execution_count": 9,
   "metadata": {},
   "outputs": [],
   "source": [
    "# Finding Y-intercept\n",
    "a=yMean-(b*xMean)"
   ]
  },
  {
   "cell_type": "code",
   "execution_count": 10,
   "metadata": {},
   "outputs": [],
   "source": [
    "# Taking three random points to fit into the line equation\n",
    "plotX=[10,20,25]\n",
    "plotY=[0,0,0]\n",
    "\n",
    "for i in range (len(plotX)):\n",
    "    plotY[i]=a+b*plotX[i]"
   ]
  },
  {
   "cell_type": "code",
   "execution_count": 11,
   "metadata": {},
   "outputs": [
    {
     "data": {
      "text/plain": [
       "[<matplotlib.lines.Line2D at 0x1feff2d87f0>]"
      ]
     },
     "execution_count": 11,
     "metadata": {},
     "output_type": "execute_result"
    },
    {
     "data": {
      "image/png": "[encoded data removed]",
      "text/plain": [
       "<Figure size 432x288 with 1 Axes>"
      ]
     },
     "metadata": {},
     "output_type": "display_data"
    }
   ],
   "source": [
    "# Plotting the line\n",
    "plt.scatter(x,y)\n",
    "plt.plot(plotX,plotY)"
   ]
  },
  {
   "cell_type": "code",
   "execution_count": null,
   "metadata": {},
   "outputs": [],
   "source": []
  }
 ],
 "metadata": {
  "kernelspec": {
   "display_name": "Python 3",
   "language": "python",
   "name": "python3"
  },
  "language_info": {
   "codemirror_mode": {
    "name": "ipython",
    "version": 3
   },
   "file_extension": ".py",
   "mimetype": "text/x-python",
   "name": "python",
   "nbconvert_exporter": "python",
   "pygments_lexer": "ipython3",
   "version": "3.6.5"
  }
 },
 "nbformat": 4,
 "nbformat_minor": 2
}
